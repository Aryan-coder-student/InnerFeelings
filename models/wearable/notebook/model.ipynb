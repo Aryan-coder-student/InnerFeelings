{
 "cells": [
  {
   "cell_type": "code",
   "execution_count": 84,
   "id": "e71df9a0",
   "metadata": {},
   "outputs": [],
   "source": [
    "from langchain_groq import ChatGroq \n",
    "from langchain_core.prompts import PromptTemplate\n",
    "from dotenv import load_dotenv\n",
    "from datetime import datetime\n",
    "from langchain_community.utilities import SerpAPIWrapper\n",
    "from langchain_community.agent_toolkits.load_tools import load_tools\n",
    "load_dotenv()\n",
    "import os \n",
    "api_key = os.getenv(\"GROQ_API_KEY\")\n",
    "os.environ[\"SERPAPI_API_KEY\"] = os.getenv(\"SERPAPI_API_KEY\")"
   ]
  },
  {
   "cell_type": "code",
   "execution_count": 86,
   "id": "38b9daff",
   "metadata": {},
   "outputs": [],
   "source": [
    "model = ChatGroq(\n",
    "    api_key=str(api_key),\n",
    "    model=\"openai/gpt-oss-20b\"\n",
    ")"
   ]
  },
  {
   "cell_type": "code",
   "execution_count": 87,
   "id": "59a40055",
   "metadata": {},
   "outputs": [],
   "source": [
    "structerd_ouput = model.with_structured_output(WearableSentiment)"
   ]
  },
  {
   "cell_type": "code",
   "execution_count": 88,
   "id": "d1cae95f",
   "metadata": {},
   "outputs": [],
   "source": [
    "query_prompt_template = PromptTemplate.from_template(\"\"\"\n",
    "You are a fitness analyst.  \n",
    "Given wearable data:  \n",
    "oxygen: {oxygen}  \n",
    "sleep_duration: {sleep_duration}  \n",
    "heart_rate: {heart_rate}  \n",
    "steps: {steps}  \n",
    "activity: {activity}  \n",
    "gender: {gender}  \n",
    "age: {age}  \n",
    "\n",
    "Generate ONE concise Google search query  \n",
    "that would help find useful, science-based insights or advice for the current health state.  \n",
    "Only output the query text.\n",
    "\"\"\")\n",
    "\n",
    "wearable_data = {\n",
    "    \"oxygen\": 95,\n",
    "    \"sleep_duration\": \"6h\",\n",
    "    \"heart_rate\": 88,\n",
    "    \"steps\": 3200,\n",
    "    \"activity\": [\"Cardio\" , \"Gym\"],\n",
    "    \"gender\": \"male\",\n",
    "    \"age\": 34\n",
    "}\n",
    "\n",
    "\n",
    "query_prompt = query_prompt_template.format(**wearable_data)\n",
    "search_query = model.invoke(query_prompt)\n"
   ]
  },
  {
   "cell_type": "code",
   "execution_count": 89,
   "id": "9efeb906",
   "metadata": {},
   "outputs": [
    {
     "name": "stdout",
     "output_type": "stream",
     "text": [
      "Generated Search Query: science‑based ways to increase sleep duration in an active 34‑year‑old male\n",
      "\n",
      "\n"
     ]
    }
   ],
   "source": [
    "print(f\"Generated Search Query: {search_query.content}\")\n",
    "search_query = search_query.content"
   ]
  },
  {
   "cell_type": "code",
   "execution_count": 90,
   "id": "aeaf4164",
   "metadata": {},
   "outputs": [],
   "source": [
    "search_tool = SerpAPIWrapper() \n",
    "search_results = search_tool.run(search_query)"
   ]
  },
  {
   "cell_type": "code",
   "execution_count": null,
   "id": "18b2a290",
   "metadata": {},
   "outputs": [
    {
     "data": {
      "text/plain": [
       "'['"
      ]
     },
     "execution_count": 97,
     "metadata": {},
     "output_type": "execute_result"
    }
   ],
   "source": [
    "search_results"
   ]
  },
  {
   "cell_type": "code",
   "execution_count": 91,
   "id": "81a8a9ff",
   "metadata": {},
   "outputs": [],
   "source": [
    "analysis_prompt_template = PromptTemplate.from_template(\"\"\"\n",
    "You are a fitness analyser.\n",
    "You have wearable readings:\n",
    "oxygen: {oxygen}\n",
    "sleep_duration: {sleep_duration}\n",
    "heart_rate: {heart_rate}\n",
    "steps: {steps}\n",
    "activity: {activity}\n",
    "gender: {gender}\n",
    "age: {age}\n",
    "\n",
    "Also, here are Google search results for relevant health advice:\n",
    "{search_results}\n",
    "\n",
    "Using BOTH the wearable readings and search results, return a JSON object that matches this schema exactly:\n",
    "{{\n",
    "  \"oxygen\": float,\n",
    "  \"sleep_duration\": float,\n",
    "  \"heart_rate\": float,\n",
    "  \"steps\": int,\n",
    "  \"activity\": [\"string\", \"string\"],\n",
    "  \"sentiment\": [\"string\"],\n",
    "  \"insight\": \"string\"\n",
    "}}\n",
    "\n",
    "Rules:\n",
    "- activity must be a JSON array, e.g., [\"walking\", \"yoga\"]\n",
    "- sentiment must be a JSON array, e.g., [\"neutral\"] or [\"positive\", \"motivated\"]\n",
    "- insight must be a plain string\n",
    "\"\"\")\n"
   ]
  },
  {
   "cell_type": "code",
   "execution_count": 98,
   "id": "07fdbc3d",
   "metadata": {},
   "outputs": [],
   "source": [
    "analysis_prompt = analysis_prompt_template.format(\n",
    "    **wearable_data,\n",
    "    search_results=search_results\n",
    ")\n",
    "\n",
    "# structured_llm = model.with_structured_output(WearableSentiment)\n",
    "final_analysis = model.invoke(analysis_prompt)\n"
   ]
  },
  {
   "cell_type": "code",
   "execution_count": 99,
   "id": "2deaee95",
   "metadata": {},
   "outputs": [
    {
     "data": {
      "text/plain": [
       "'[\\'Making changes to your diet and lifestyle may help improve your sleep quality. Certain supplements and natural remedies could also be beneficial.\\', \\'-Avoid caffeine consumption for 10 hours before bedtime. -Do not drink alcohol or eat any food for 3 hours before going to bed. -Finish all work ...\\', \\'Regular physical activity can lead to improved sleep quality, reduced sleep latency, and better overall sleep quality.\\', \\'Based on available studies, “We have solid evidence that exercise does, in fact, help you fall asleep more quickly and improves sleep quality,” says Charlene ...\\', \\'The objective of this narrative review paper is to discuss about sleep duration needed across the lifespan. Sleep duration varies widely ...\\', \\'Be consistent: Going to bed and waking up at the same times every day helps the body develop a rhythm, which may make it easier to fall asleep ...\\', \\'Sleep Hygiene Tips for Athletes · Creating an appropriate sleep environment. · Avoid alcohol and caffeine before bedtime. · Stay away from ...\\', \\'Young adults sleeping <8 h have the highest risk for mental illness. Young adults sleeping 8–9 h have the lowest risk for mental illness.\\', \\'Napping during the day. Too much daytime sleep makes you less inclined to fall asleep at bedtime. · Drinking alcohol before bed. It may help you fall asleep at ...\\', \"Scientists have established the connection between age and the required number of hours a person needs to have a good night\\'s sleep.\"]'"
      ]
     },
     "execution_count": 99,
     "metadata": {},
     "output_type": "execute_result"
    }
   ],
   "source": [
    "search_results"
   ]
  },
  {
   "cell_type": "code",
   "execution_count": 101,
   "id": "d8563452",
   "metadata": {},
   "outputs": [
    {
     "name": "stdout",
     "output_type": "stream",
     "text": [
      "{\n",
      "  \"oxygen\": 95.0,\n",
      "  \"sleep_duration\": 6.0,\n",
      "  \"heart_rate\": 88.0,\n",
      "  \"steps\": 3200,\n",
      "  \"activity\": [\"Cardio\", \"Gym\"],\n",
      "  \"sentiment\": [\"concerned\"],\n",
      "  \"insight\": \"Your oxygen saturation is within normal limits, but your sleep duration of 6 hours falls below the 7‑9 hour range recommended for adults, which may increase risk of mental and physical health issues. Your resting heart rate of 88 bpm is slightly above average for a 34‑year‑old male, and your daily step count is low compared to typical activity levels. To improve overall well‑being, aim to increase nightly sleep to at least 7–9 hours, maintain a consistent bedtime routine, limit caffeine and alcohol intake before bed, and incorporate regular aerobic exercise. These changes are supported by evidence that both adequate sleep and consistent physical activity enhance sleep quality and cardiovascular health.\"\n",
      "}\n"
     ]
    }
   ],
   "source": [
    "print(final_analysis.content)"
   ]
  },
  {
   "cell_type": "code",
   "execution_count": null,
   "id": "73c955a5",
   "metadata": {},
   "outputs": [],
   "source": []
  }
 ],
 "metadata": {
  "kernelspec": {
   "display_name": "Python 3",
   "language": "python",
   "name": "python3"
  },
  "language_info": {
   "codemirror_mode": {
    "name": "ipython",
    "version": 3
   },
   "file_extension": ".py",
   "mimetype": "text/x-python",
   "name": "python",
   "nbconvert_exporter": "python",
   "pygments_lexer": "ipython3",
   "version": "3.10.11"
  }
 },
 "nbformat": 4,
 "nbformat_minor": 5
}
