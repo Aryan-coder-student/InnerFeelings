{
 "cells": [
  {
   "cell_type": "code",
   "execution_count": 1,
   "id": "2d98a63d",
   "metadata": {},
   "outputs": [
    {
     "data": {
      "application/vnd.jupyter.widget-view+json": {
       "model_id": "4923860d382e48989b284737f90a5112",
       "version_major": 2,
       "version_minor": 0
      },
      "text/plain": [
       "README.md: 0.00B [00:00, ?B/s]"
      ]
     },
     "metadata": {},
     "output_type": "display_data"
    },
    {
     "name": "stderr",
     "output_type": "stream",
     "text": [
      "f:\\python_file_install\\lib\\site-packages\\huggingface_hub\\file_download.py:144: UserWarning: `huggingface_hub` cache-system uses symlinks by default to efficiently store duplicated files but your machine does not support them in C:\\Users\\ASUS\\.cache\\huggingface\\hub\\datasets--dair-ai--emotion. Caching files will still work but in a degraded version that might require more space on your disk. This warning can be disabled by setting the `HF_HUB_DISABLE_SYMLINKS_WARNING` environment variable. For more details, see https://huggingface.co/docs/huggingface_hub/how-to-cache#limitations.\n",
      "To support symlinks on Windows, you either need to activate Developer Mode or to run Python as an administrator. In order to activate developer mode, see this article: https://docs.microsoft.com/en-us/windows/apps/get-started/enable-your-device-for-development\n",
      "  warnings.warn(message)\n"
     ]
    }
   ],
   "source": [
    "from datasets import load_dataset\n",
    "import os \n",
    "PATH = os.path.join(\"..\",\"data\") \n",
    "ds = load_dataset(\"dair-ai/emotion\", \"split\",cache_dir = PATH )"
   ]
  },
  {
   "cell_type": "code",
   "execution_count": 2,
   "id": "68c4efea",
   "metadata": {},
   "outputs": [
    {
     "data": {
      "text/plain": [
       "DatasetDict({\n",
       "    train: Dataset({\n",
       "        features: ['text', 'label'],\n",
       "        num_rows: 16000\n",
       "    })\n",
       "    validation: Dataset({\n",
       "        features: ['text', 'label'],\n",
       "        num_rows: 2000\n",
       "    })\n",
       "    test: Dataset({\n",
       "        features: ['text', 'label'],\n",
       "        num_rows: 2000\n",
       "    })\n",
       "})"
      ]
     },
     "execution_count": 2,
     "metadata": {},
     "output_type": "execute_result"
    }
   ],
   "source": [
    "ds"
   ]
  },
  {
   "cell_type": "code",
   "execution_count": 3,
   "id": "cd41e046",
   "metadata": {},
   "outputs": [],
   "source": [
    "import pandas as pd \n",
    "base_path = \"../data/train_data\"\n",
    "os.makedirs(base_path , exist_ok = True)\n",
    "PATH_TRAIN = os.path.join(base_path,\"train.csv\")\n",
    "PATH_VAL = os.path.join(base_path,\"val.csv\")\n",
    "PATH_TEST = os.path.join(base_path,\"test.csv\")\n",
    "train = ds[\"train\"][:400]\n",
    "val = ds[\"validation\"][:200]\n",
    "test = ds[\"test\"][:100]\n",
    "# pd.DataFrame(train).to_csv(PATH_TRAIN)\n",
    "# pd.DataFrame(val).to_csv(PATH_VAL)\n",
    "# pd.DataFrame(test).to_csv(PATH_TEST)"
   ]
  },
  {
   "cell_type": "code",
   "execution_count": 4,
   "id": "438033dc",
   "metadata": {},
   "outputs": [],
   "source": [
    "from langchain_groq import ChatGroq\n",
    "from langchain_core.prompts.prompt import PromptTemplate\n",
    "extender_template = PromptTemplate.from_template(\n",
    "    \"\"\"\n",
    "    You need to extend the sentence to 1000 words,like emotion journaling without changing sentiments and return only the sentence\n",
    "    Here is sentence and its sentiment\n",
    "    sentence : {sentence}\n",
    "    sentiment : {sentiment}\n",
    "\n",
    "    Output:\n",
    "    1) 1000 words extended sentence\n",
    "    \"\"\"\n",
    ")"
   ]
  },
  {
   "cell_type": "code",
   "execution_count": 5,
   "id": "bd9625e1",
   "metadata": {},
   "outputs": [],
   "source": [
    "# Connect LLM\n",
    "from dotenv import load_dotenv\n",
    "load_dotenv()\n",
    "os.getenv(\"GROQ_API_KEY\")\n",
    "llm = ChatGroq(\n",
    "    model=\"meta-llama/llama-4-scout-17b-16e-instruct\",\n",
    "    temperature=0,\n",
    "    max_tokens=None,\n",
    "    timeout=None,\n",
    "    max_retries=2,\n",
    ")\n",
    "chain = extender_template | llm"
   ]
  },
  {
   "cell_type": "code",
   "execution_count": 6,
   "id": "0d894e5e",
   "metadata": {},
   "outputs": [
    {
     "data": {
      "text/plain": [
       "{0: 'sadness', 1: 'joy', 2: 'love', 3: 'anger', 4: 'fear', 5: 'surprise'}"
      ]
     },
     "execution_count": 6,
     "metadata": {},
     "output_type": "execute_result"
    }
   ],
   "source": [
    "idx_2_class = {index : value for index , value in enumerate(ds[\"train\"].features[\"label\"].names)}\n",
    "idx_2_class"
   ]
  },
  {
   "cell_type": "code",
   "execution_count": 32,
   "id": "b8530d77",
   "metadata": {},
   "outputs": [],
   "source": [
    "train_data = {\n",
    "    \"text\": [],\n",
    "    \"label\": []\n",
    "}"
   ]
  },
  {
   "cell_type": "code",
   "execution_count": null,
   "id": "73d8920f",
   "metadata": {},
   "outputs": [],
   "source": [
    "import time\n",
    "for text , label in zip(train[\"text\"][268:] , train[\"label\"][268:]):\n",
    "    label = idx_2_class[label]\n",
    "    inputs = {\"sentence\": text, \"sentiment\": label}\n",
    "    response = chain.invoke(inputs)\n",
    "    train_data[\"text\"].append(response.content)\n",
    "    train_data[\"label\"].append(label)\n",
    "    time.sleep(10)  "
   ]
  },
  {
   "cell_type": "code",
   "execution_count": 31,
   "id": "95db89c9",
   "metadata": {},
   "outputs": [
    {
     "data": {
      "text/plain": [
       "\"I didn't feel humiliated, which was a surprise to me, considering the circumstances that had just unfolded, and as I reflected on it, I realized that it was a testament to my growth and resilience, and it made me think about all the times I had felt humiliated in the past, and how it had affected me, and I had to admit that it was a pretty terrible feeling, and one that I didn't wish on anyone, but at the same time, I was grateful that I had been able to navigate this situation without feeling that way, and it made me wonder if I had finally reached a point where I was comfortable with myself, and wasn't as concerned with what others thought of me, and that was a pretty liberating feeling, and it made me think about the concept of humiliation, and how it can be used as a tool to control and manipulate people, and how it can be a powerful motivator for some, but for me, it was just a reminder that I had come a long way, and that I still had a lot to learn, and I was okay with that, and as I sat there, thinking about it all, I felt a sense of sadness wash over me, not because I had been humiliated, but because I realized that I had been living in a state of constant fear of being humiliated, and that it had been holding me back in so many ways, and I knew that I wasn't alone in this feeling, and that there were countless others out there who were struggling with the same thing, and it made me want to reach out to them, and tell them that they weren't alone, and that there was a way out, and that it was possible to find freedom from the fear of humiliation, and to learn to love and accept themselves, flaws and all, and to find a sense of peace and contentment that wasn't dependent on external validation, and as I thought about it all, I felt a sense of sadness, but it wasn't a debilitating sadness, it was more of a melancholy sadness, and it was a reminder that I still had a lot of work to do, but I was ready for it, and I was excited to see where this newfound understanding of myself would take me, and I knew that it wouldn't be easy, but I was willing to do the work, and to face my fears head-on, and to learn to love myself, no matter what.\""
      ]
     },
     "execution_count": 31,
     "metadata": {},
     "output_type": "execute_result"
    }
   ],
   "source": [
    "response.content"
   ]
  },
  {
   "cell_type": "code",
   "execution_count": 41,
   "id": "ab4c58e8",
   "metadata": {},
   "outputs": [
    {
     "data": {
      "text/plain": [
       "400"
      ]
     },
     "execution_count": 41,
     "metadata": {},
     "output_type": "execute_result"
    }
   ],
   "source": [
    "len(train_data[\"text\"])"
   ]
  },
  {
   "cell_type": "code",
   "execution_count": 44,
   "id": "0d249ec5",
   "metadata": {},
   "outputs": [],
   "source": [
    "base_path_ext = \"../data/train_data_ext\"\n",
    "os.makedirs(base_path_ext, exist_ok=True)\n",
    "PATH_TRAIN_EXT = os.path.join(base_path_ext,\"train.csv\")\n",
    "pd.DataFrame(train_data).to_csv(PATH_TRAIN_EXT, index=False)"
   ]
  },
  {
   "cell_type": "code",
   "execution_count": 47,
   "id": "73dbf9c5",
   "metadata": {},
   "outputs": [],
   "source": [
    "test_data = {\"text\": [], \"label\": []}"
   ]
  },
  {
   "cell_type": "code",
   "execution_count": 48,
   "id": "39dda657",
   "metadata": {},
   "outputs": [],
   "source": [
    "for text, label in zip(val[\"text\"], val[\"label\"]):\n",
    "    label = idx_2_class[label]\n",
    "    inputs = {\"sentence\": text, \"sentiment\": label}\n",
    "    response = chain.invoke(inputs)\n",
    "    test_data[\"text\"].append(response.content)\n",
    "    test_data[\"label\"].append(label)\n",
    "    time.sleep(10)"
   ]
  },
  {
   "cell_type": "code",
   "execution_count": 49,
   "id": "a225bc80",
   "metadata": {},
   "outputs": [],
   "source": [
    "PATH_TRAIN_EXT = os.path.join(base_path_ext, \"val.csv\")\n",
    "pd.DataFrame(test_data).to_csv(PATH_TRAIN_EXT, index=False)"
   ]
  },
  {
   "cell_type": "code",
   "execution_count": 50,
   "id": "de340977",
   "metadata": {},
   "outputs": [],
   "source": [
    "val_data = {\"text\": [], \"label\": []}"
   ]
  },
  {
   "cell_type": "code",
   "execution_count": 51,
   "id": "0bbb4b1c",
   "metadata": {},
   "outputs": [],
   "source": [
    "for text, label in zip(test[\"text\"], test[\"label\"]):\n",
    "    label = idx_2_class[label]\n",
    "    inputs = {\"sentence\": text, \"sentiment\": label}\n",
    "    response = chain.invoke(inputs)\n",
    "    val_data[\"text\"].append(response.content)\n",
    "    val_data[\"label\"].append(label)\n",
    "    time.sleep(10)"
   ]
  },
  {
   "cell_type": "code",
   "execution_count": 52,
   "id": "c48dc9fd",
   "metadata": {},
   "outputs": [],
   "source": [
    "PATH_TRAIN_EXT = os.path.join(base_path_ext, \"test.csv\")\n",
    "pd.DataFrame(val_data).to_csv(PATH_TRAIN_EXT, index=False)"
   ]
  },
  {
   "cell_type": "code",
   "execution_count": null,
   "id": "cbabf623",
   "metadata": {},
   "outputs": [],
   "source": []
  }
 ],
 "metadata": {
  "kernelspec": {
   "display_name": "Python 3",
   "language": "python",
   "name": "python3"
  },
  "language_info": {
   "codemirror_mode": {
    "name": "ipython",
    "version": 3
   },
   "file_extension": ".py",
   "mimetype": "text/x-python",
   "name": "python",
   "nbconvert_exporter": "python",
   "pygments_lexer": "ipython3",
   "version": "3.10.11"
  }
 },
 "nbformat": 4,
 "nbformat_minor": 5
}
